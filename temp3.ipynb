{
 "cells": [
  {
   "cell_type": "code",
   "execution_count": 1,
   "metadata": {},
   "outputs": [],
   "source": [
    "import requests\n",
    "import base64\n",
    "from PIL import Image\n",
    "from io import BytesIO\n",
    "\n",
    "# Use this function to convert an image file from the filesystem to base64\n",
    "def image_file_to_base64(image_path):\n",
    "    with open(image_path, 'rb') as f:\n",
    "        image_data = f.read()\n",
    "    return base64.b64encode(image_data).decode('utf-8')\n",
    "\n",
    "api_key = \"SG_1afd12a7789c2be8\"\n",
    "url = \"https://api.segmind.com/v1/try-on-diffusion\"\n",
    "\n",
    "# Request payload\n",
    "data = {\n",
    "  \"model_image\": image_file_to_base64(r\"D:\\vton\\try\\model.jpg\"),  # Use image_file_to_base64 for local file paths\n",
    "  \"cloth_image\": image_file_to_base64(r\"D:\\vton\\try\\garment.jpg\"),  # Use image_file_to_base64 for local file paths\n",
    "  \"category\": \"Upper body\",\n",
    "  \"num_inference_steps\": 35,\n",
    "  \"guidance_scale\": 2,\n",
    "  \"seed\": 12467,\n",
    "  \"base64\": False\n",
    "}\n",
    "\n",
    "headers = {'x-api-key': api_key}\n",
    "\n",
    "response = requests.post(url, json=data, headers=headers)\n",
    "\n",
    "# Convert the response content into an image and display it\n",
    "if response.status_code == 200:\n",
    "    image = Image.open(BytesIO(response.content))\n",
    "    image.show()  # Opens the image in the default viewer\n",
    "else:\n",
    "    print(\"Failed to retrieve image. Status code:\", response.status_code)\n",
    "    print(\"Response:\", response.content)\n"
   ]
  },
  {
   "cell_type": "code",
   "execution_count": 3,
   "metadata": {},
   "outputs": [
    {
     "name": "stdout",
     "output_type": "stream",
     "text": [
      "Defaulting to user installation because normal site-packages is not writeable\n",
      "Requirement already satisfied: pillow in c:\\users\\dell\\appdata\\local\\packages\\pythonsoftwarefoundation.python.3.12_qbz5n2kfra8p0\\localcache\\local-packages\\python312\\site-packages (11.0.0)\n"
     ]
    }
   ],
   "source": [
    "!pip install pillow"
   ]
  }
 ],
 "metadata": {
  "kernelspec": {
   "display_name": "Python 3",
   "language": "python",
   "name": "python3"
  },
  "language_info": {
   "codemirror_mode": {
    "name": "ipython",
    "version": 3
   },
   "file_extension": ".py",
   "mimetype": "text/x-python",
   "name": "python",
   "nbconvert_exporter": "python",
   "pygments_lexer": "ipython3",
   "version": "3.12.7"
  }
 },
 "nbformat": 4,
 "nbformat_minor": 2
}
